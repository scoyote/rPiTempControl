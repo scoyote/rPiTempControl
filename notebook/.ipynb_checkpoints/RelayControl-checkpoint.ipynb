{
 "cells": [
  {
   "cell_type": "code",
   "execution_count": 1,
   "metadata": {},
   "outputs": [],
   "source": [
    "import time\n",
    "import RPi.GPIO as GPIO"
   ]
  },
  {
   "cell_type": "markdown",
   "metadata": {},
   "source": [
    "## Pinout\n",
    "```\n",
    "Channel No. \tRPi Pin No. \twiringPi \tBCM \tDescriptions\n",
    "CH1 \t37 \tP25 \t26 \tChannel 1\n",
    "CH2 \t38 \tP28 \t20 \tChannel 2\n",
    "CH3 \t40 \tP29 \t21 \tChannel 3\n",
    "```"
   ]
  },
  {
   "cell_type": "code",
   "execution_count": 4,
   "metadata": {},
   "outputs": [],
   "source": [
    "\n",
    "GPIO.setmode(GPIO.BCM)\n",
    "GPIO.setup(26, GPIO.OUT)\n",
    "GPIO.output(26, GPIO.LOW)\n",
    "\n",
    "time.sleep(0.25)\n",
    "\n",
    "GPIO.output(26, GPIO.HIGH)"
   ]
  },
  {
   "cell_type": "code",
   "execution_count": 3,
   "metadata": {},
   "outputs": [],
   "source": [
    "\n",
    "GPIO.cleanup()"
   ]
  },
  {
   "cell_type": "code",
   "execution_count": null,
   "metadata": {},
   "outputs": [],
   "source": []
  }
 ],
 "metadata": {
  "kernelspec": {
   "display_name": "Python 3",
   "language": "python",
   "name": "python3"
  },
  "language_info": {
   "codemirror_mode": {
    "name": "ipython",
    "version": 3
   },
   "file_extension": ".py",
   "mimetype": "text/x-python",
   "name": "python",
   "nbconvert_exporter": "python",
   "pygments_lexer": "ipython3",
   "version": "3.5.3"
  }
 },
 "nbformat": 4,
 "nbformat_minor": 2
}

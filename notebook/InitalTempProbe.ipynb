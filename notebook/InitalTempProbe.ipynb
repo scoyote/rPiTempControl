{
 "cells": [
  {
   "cell_type": "code",
   "execution_count": null,
   "metadata": {},
   "outputs": [],
   "source": [
    "import os\n",
    "import time\n",
    "import glob\n",
    "\n",
    "# 28-0118312e61ff  28-0118314a18ff \n",
    "\n",
    "os.system('sudo modprobe w1-gpio')\n",
    "os.system('sudo modprobe w1-therm')\n",
    "\n",
    "base_dir = '/sys/bus/w1/devices/'\n",
    "\n",
    "folders = glob.glob(base_dir + '28*')\n",
    "\n",
    "def read_temp_raw(fldr):\n",
    "    f = open(fldr+'/w1_slave', 'r')\n",
    "    lines = f.readlines()\n",
    "    f.close()\n",
    "    return lines\n",
    "\n",
    "def read_temp(fldr):\n",
    "    lines = read_temp_raw(fldr)\n",
    "    while lines[0].strip()[-3:] != 'YES':\n",
    "        time.sleep(0.2)\n",
    "        lines = read_temp_raw()\n",
    "    equals_pos = lines[1].find('t=')\n",
    "    if equals_pos != -1:\n",
    "        temp_string = lines[1][equals_pos+2:]\n",
    "        temp_c = float(temp_string) / 1000.0\n",
    "        temp_f = temp_c * 9.0 / 5.0 + 32.0\n",
    "        return temp_f\n",
    "\n",
    "while True:\n",
    "    tempx = [read_temp(x) for x in folders]\n",
    "    print([time.time()] + tempx)\n",
    "    time.sleep(5)"
   ]
  }
 ],
 "metadata": {
  "kernelspec": {
   "display_name": "Python 3",
   "language": "python",
   "name": "python3"
  },
  "language_info": {
   "codemirror_mode": {
    "name": "ipython",
    "version": 3
   },
   "file_extension": ".py",
   "mimetype": "text/x-python",
   "name": "python",
   "nbconvert_exporter": "python",
   "pygments_lexer": "ipython3",
   "version": "3.5.3"
  }
 },
 "nbformat": 4,
 "nbformat_minor": 2
}
